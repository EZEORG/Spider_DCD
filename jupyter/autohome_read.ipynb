{
 "cells": [
  {
   "cell_type": "code",
   "execution_count": 1,
   "id": "558f7e33-e1da-4241-911d-90a5567fd464",
   "metadata": {},
   "outputs": [],
   "source": [
    "import pandas as pd"
   ]
  },
  {
   "cell_type": "code",
   "execution_count": 2,
   "id": "fe7a4808-dd48-47fb-914d-77a4eb9204de",
   "metadata": {},
   "outputs": [],
   "source": [
    "df = pd.read_csv('./autohome_reviews/Model Y 2024款 长续航全轮驱动版_reviews.csv')"
   ]
  },
  {
   "cell_type": "code",
   "execution_count": 3,
   "id": "7c55331c-6d31-4238-9053-e36df1111c17",
   "metadata": {},
   "outputs": [
    {
     "data": {
      "text/html": [
       "<div>\n",
       "<style scoped>\n",
       "    .dataframe tbody tr th:only-of-type {\n",
       "        vertical-align: middle;\n",
       "    }\n",
       "\n",
       "    .dataframe tbody tr th {\n",
       "        vertical-align: top;\n",
       "    }\n",
       "\n",
       "    .dataframe thead th {\n",
       "        text-align: right;\n",
       "    }\n",
       "</style>\n",
       "<table border=\"1\" class=\"dataframe\">\n",
       "  <thead>\n",
       "    <tr style=\"text-align: right;\">\n",
       "      <th></th>\n",
       "      <th>车名</th>\n",
       "      <th>用户ID</th>\n",
       "      <th>最满意</th>\n",
       "      <th>最不满意</th>\n",
       "      <th>空间</th>\n",
       "      <th>驾驶感受</th>\n",
       "      <th>续航</th>\n",
       "      <th>外观</th>\n",
       "      <th>内饰</th>\n",
       "      <th>性价比</th>\n",
       "      <th>智能化</th>\n",
       "    </tr>\n",
       "  </thead>\n",
       "  <tbody>\n",
       "    <tr>\n",
       "      <th>0</th>\n",
       "      <td>Model Y 2024款 长续航全轮驱动版</td>\n",
       "      <td>重庆车友7626263</td>\n",
       "      <td>总的来说，我对特斯拉model Y这款新能源汽车的加速感受非常满意。不管是外观设计、内饰质感...</td>\n",
       "      <td>最不满意的就是提车时间比较久，我从下订单到提车等了好几个星期，期间是蛮煎熬的。</td>\n",
       "      <td>我身高184厘米体重178斤体格很大，在驾驶位头部离车顶还有一拳距离，座椅坐姿很高驾驶视野开...</td>\n",
       "      <td>起步/加速动力很给力，一脚油门下去，立马能感受推背感的刺激。方向盘轻重适中，指向精准没有虚位...</td>\n",
       "      <td>续航方面绝对满意，现在夏天我全程开空调行驶续航能达到550公里，而且表显准确没有虚标。</td>\n",
       "      <td>它采用了封闭式的前格栅设计，让人一眼就能感受到它的独特气质。大灯的造型犀利极具压迫感，犹如猎...</td>\n",
       "      <td>内饰用料考究材料质感细腻柔和，15英寸大中控屏触感流畅，多功能真皮方向盘手感丰富。</td>\n",
       "      <td>它有着极高的颜值，极低的用车成本，强劲的动力输出，我觉得性价比还是非常高的。</td>\n",
       "      <td>配置有手机APP远程功能，语音识别控制系统，车载空气净化器，车内PM2.5过滤装置。</td>\n",
       "    </tr>\n",
       "  </tbody>\n",
       "</table>\n",
       "</div>"
      ],
      "text/plain": [
       "                       车名         用户ID  \\\n",
       "0  Model Y 2024款 长续航全轮驱动版  重庆车友7626263   \n",
       "\n",
       "                                                 最满意  \\\n",
       "0  总的来说，我对特斯拉model Y这款新能源汽车的加速感受非常满意。不管是外观设计、内饰质感...   \n",
       "\n",
       "                                      最不满意  \\\n",
       "0  最不满意的就是提车时间比较久，我从下订单到提车等了好几个星期，期间是蛮煎熬的。   \n",
       "\n",
       "                                                  空间  \\\n",
       "0  我身高184厘米体重178斤体格很大，在驾驶位头部离车顶还有一拳距离，座椅坐姿很高驾驶视野开...   \n",
       "\n",
       "                                                驾驶感受  \\\n",
       "0  起步/加速动力很给力，一脚油门下去，立马能感受推背感的刺激。方向盘轻重适中，指向精准没有虚位...   \n",
       "\n",
       "                                            续航  \\\n",
       "0  续航方面绝对满意，现在夏天我全程开空调行驶续航能达到550公里，而且表显准确没有虚标。   \n",
       "\n",
       "                                                  外观  \\\n",
       "0  它采用了封闭式的前格栅设计，让人一眼就能感受到它的独特气质。大灯的造型犀利极具压迫感，犹如猎...   \n",
       "\n",
       "                                          内饰  \\\n",
       "0  内饰用料考究材料质感细腻柔和，15英寸大中控屏触感流畅，多功能真皮方向盘手感丰富。   \n",
       "\n",
       "                                      性价比  \\\n",
       "0  它有着极高的颜值，极低的用车成本，强劲的动力输出，我觉得性价比还是非常高的。   \n",
       "\n",
       "                                          智能化  \n",
       "0  配置有手机APP远程功能，语音识别控制系统，车载空气净化器，车内PM2.5过滤装置。  "
      ]
     },
     "execution_count": 3,
     "metadata": {},
     "output_type": "execute_result"
    }
   ],
   "source": [
    "df"
   ]
  },
  {
   "cell_type": "code",
   "execution_count": null,
   "id": "e17e837e-3d52-4425-8ff3-15f5fbd8d7c7",
   "metadata": {},
   "outputs": [],
   "source": []
  }
 ],
 "metadata": {
  "kernelspec": {
   "display_name": "Python 3 (ipykernel)",
   "language": "python",
   "name": "python3"
  },
  "language_info": {
   "codemirror_mode": {
    "name": "ipython",
    "version": 3
   },
   "file_extension": ".py",
   "mimetype": "text/x-python",
   "name": "python",
   "nbconvert_exporter": "python",
   "pygments_lexer": "ipython3",
   "version": "3.12.4"
  }
 },
 "nbformat": 4,
 "nbformat_minor": 5
}
