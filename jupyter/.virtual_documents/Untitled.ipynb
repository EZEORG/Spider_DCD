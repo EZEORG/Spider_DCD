import pandas as pd
import numpy as np
from pandas import DataFrame


df = pd.read_csv("../data/car_1.csv")


df


middle_columns = df.iloc[:, 130:140]


middle_columns



