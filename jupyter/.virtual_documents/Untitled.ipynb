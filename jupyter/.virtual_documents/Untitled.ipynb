import pandas as pd


df = pd.read_csv("../data/car_1.csv")


df



