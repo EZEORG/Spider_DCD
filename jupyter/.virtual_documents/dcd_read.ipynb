import pandas as pd
import numpy as np
from pandas import DataFrame


df = pd.read_csv("../dcd_data/car_1.csv")


df


middle_columns = df.iloc[:, 276:286]#查看4到6列


middle_columns


df = pd.read_csv("../dcd_data/car_2.csv")


df


df = pd.read_csv("../dcd_data/car_3.csv")


df


df = pd.read_csv("../dcd_data/car_4.csv")


df



