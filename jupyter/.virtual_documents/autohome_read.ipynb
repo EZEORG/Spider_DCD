import pandas as pd


df = pd.read_csv('../autohome_reviews/Model Y 2024款 长续航全轮驱动版_reviews.csv')


df



